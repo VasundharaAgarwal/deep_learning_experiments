{
 "cells": [
  {
   "cell_type": "markdown",
   "metadata": {},
   "source": [
    "### Linear Regression Using Pseudo Inverse"
   ]
  },
  {
   "cell_type": "code",
   "execution_count": 1,
   "metadata": {},
   "outputs": [],
   "source": [
    "import numpy as np\n",
    "import matplotlib.pyplot as plt\n",
    "import seaborn as sns"
   ]
  },
  {
   "cell_type": "code",
   "execution_count": 2,
   "metadata": {},
   "outputs": [],
   "source": [
    "X = np.random.rand(100)\n",
    "y = 13*X + 3 + 1*np.random.randn(100)"
   ]
  },
  {
   "cell_type": "code",
   "execution_count": 3,
   "metadata": {},
   "outputs": [],
   "source": [
    "X_stack = np.vstack((X,np.ones(np.shape(X)))).T\n",
    "XTX_inv = np.linalg.inv(np.dot(X_stack.T,X_stack))\n",
    "XtY = np.dot(X_stack.T,y)\n",
    "W = np.dot(XTX_inv, XtY)\n",
    "y_pred = W[0]*X + W[1]"
   ]
  },
  {
   "cell_type": "markdown",
   "metadata": {},
   "source": [
    "### Linear Regression Using Gradient Descent"
   ]
  },
  {
   "cell_type": "markdown",
   "metadata": {},
   "source": [
    "$\\textbf{y}_{i} = \\textbf{w}^{T}\\textbf{x}_{i}+{b}$ is how a Linear Regression is written. "
   ]
  },
  {
   "cell_type": "code",
   "execution_count": 4,
   "metadata": {},
   "outputs": [],
   "source": [
    "def gradDescent(X,y,lr,epochs):\n",
    "    w = np.array([0.1]*X.shape[1])\n",
    "    b = 0.1\n",
    "    N = X.shape[0]\n",
    "    for i in range(epochs):\n",
    "        _sumW = 0\n",
    "        _sumB = 0\n",
    "        for j in range(N):\n",
    "            _sumW += (-y[j]+(w.dot(X[j])+b))*(X[j].T)\n",
    "            _sumB += (-y[j]+(w.dot(X[j])+b))\n",
    "        _sumW = _sumW*2/N\n",
    "        _sumB = _sumB*2/N\n",
    "        w -= lr*_sumW\n",
    "        b -= lr*_sumB\n",
    "    return w,b"
   ]
  },
  {
   "cell_type": "code",
   "execution_count": 5,
   "metadata": {},
   "outputs": [],
   "source": [
    "X = X.reshape(100,1)"
   ]
  },
  {
   "cell_type": "code",
   "execution_count": 6,
   "metadata": {},
   "outputs": [],
   "source": [
    "w, b = gradDescent(X ,y,0.1,1000)"
   ]
  },
  {
   "cell_type": "code",
   "execution_count": 7,
   "metadata": {},
   "outputs": [],
   "source": [
    "y_pred2 = np.matmul(X,w)+b"
   ]
  },
  {
   "cell_type": "code",
   "execution_count": 8,
   "metadata": {},
   "outputs": [
    {
     "data": {
      "image/png": "[encoded data removed]",
      "text/plain": [
       "<Figure size 432x288 with 1 Axes>"
      ]
     },
     "metadata": {
      "needs_background": "light"
     },
     "output_type": "display_data"
    }
   ],
   "source": [
    "plt.scatter(X, y, color = 'blue', label='Actual')\n",
    "plt.plot(X,y_pred, color = 'red', label='Predicted: PseudoInverse')\n",
    "plt.plot(X,y_pred2, color = 'green', label = 'Predicted: Gradient Descent', alpha=0.7)\n",
    "plt.legend()\n",
    "plt.show()"
   ]
  },
  {
   "cell_type": "markdown",
   "metadata": {},
   "source": [
    "#### Analysing more than 1 feature (m)"
   ]
  },
  {
   "cell_type": "code",
   "execution_count": 9,
   "metadata": {},
   "outputs": [],
   "source": [
    "X = np.random.rand(100,2)\n",
    "y = 13*X[:,0] +15*X[:,1]+ 3 + 1*np.random.randn(100)"
   ]
  },
  {
   "cell_type": "code",
   "execution_count": 10,
   "metadata": {},
   "outputs": [],
   "source": [
    "w, b = gradDescent(X,y,0.1,1000)"
   ]
  },
  {
   "cell_type": "code",
   "execution_count": 11,
   "metadata": {},
   "outputs": [],
   "source": [
    "y_pred2 = np.matmul(X,w)+b"
   ]
  },
  {
   "cell_type": "code",
   "execution_count": 12,
   "metadata": {},
   "outputs": [],
   "source": [
    "def mse(y, y_):\n",
    "    return np.sqrt((1/y.shape[0])*np.linalg.norm(y-y_)**2)"
   ]
  },
  {
   "cell_type": "code",
   "execution_count": 13,
   "metadata": {},
   "outputs": [
    {
     "data": {
      "text/plain": [
       "0.9416284073893111"
      ]
     },
     "execution_count": 13,
     "metadata": {},
     "output_type": "execute_result"
    }
   ],
   "source": [
    "mse(y_pred2, y)"
   ]
  },
  {
   "cell_type": "code",
   "execution_count": 14,
   "metadata": {},
   "outputs": [],
   "source": [
    "def r2(y,y_):\n",
    "    y_mean = np.mean(y)\n",
    "    s1 = np.linalg.norm((y-y_mean))**2\n",
    "    s2 = np.linalg.norm((y-y_))**2\n",
    "    r = 1 - s2/s1\n",
    "    return r\n",
    "    "
   ]
  },
  {
   "cell_type": "code",
   "execution_count": 15,
   "metadata": {},
   "outputs": [
    {
     "data": {
      "text/plain": [
       "0.9774373614650574"
      ]
     },
     "execution_count": 15,
     "metadata": {},
     "output_type": "execute_result"
    }
   ],
   "source": [
    "r2(y,y_pred2)"
   ]
  },
  {
   "cell_type": "markdown",
   "metadata": {},
   "source": [
    "### Logistic Regression"
   ]
  },
  {
   "cell_type": "code",
   "execution_count": 16,
   "metadata": {},
   "outputs": [],
   "source": [
    "def gradDescentLogReg(X,y,lr,epochs):\n",
    "    N = X.shape[0]\n",
    "    m = X.shape[1]\n",
    "    w = np.array([0.1]*m)\n",
    "    for i in range(epochs):\n",
    "        _sumW = 0\n",
    "        for j in range(N):\n",
    "            power = np.exp(w.dot(X[j]))\n",
    "            y_=power/(1+power)\n",
    "            _sumW += (-y[j]+y_)*(X[j].T)\n",
    "        w -= lr*_sumW\n",
    "    return w"
   ]
  },
  {
   "cell_type": "markdown",
   "metadata": {},
   "source": [
    "#### Data is directly dependent on the first feature and thus logistic regression should perform very well."
   ]
  },
  {
   "cell_type": "code",
   "execution_count": 17,
   "metadata": {},
   "outputs": [],
   "source": [
    "X = np.random.uniform(-3, 3, (100, 2))\n",
    "y = np.array([0]*100)\n",
    "for i in range(100):\n",
    "    if X[i][0] > 0:\n",
    "        y[i] = 1\n",
    "    else:\n",
    "        y[i] = 0\n",
    "X_ = X.T\n",
    "X_stacked = np.vstack((np.ones(X.shape[0]), X_)).T"
   ]
  },
  {
   "cell_type": "code",
   "execution_count": 18,
   "metadata": {},
   "outputs": [
    {
     "data": {
      "text/plain": [
       "<matplotlib.collections.PathCollection at 0x7ff3f28eb898>"
      ]
     },
     "execution_count": 18,
     "metadata": {},
     "output_type": "execute_result"
    },
    {
     "data": {
      "image/png": "[encoded data removed]",
      "text/plain": [
       "<Figure size 432x288 with 1 Axes>"
      ]
     },
     "metadata": {
      "needs_background": "light"
     },
     "output_type": "display_data"
    }
   ],
   "source": [
    "plt.scatter(X[:,0],y)"
   ]
  },
  {
   "cell_type": "code",
   "execution_count": 19,
   "metadata": {},
   "outputs": [],
   "source": [
    "def predict(X,y,lr,epochs):\n",
    "    w = gradDescentLogReg(X_stacked,y,lr,epochs)\n",
    "    power = np.matmul(X_stacked,w)\n",
    "    \n",
    "    def f(x):\n",
    "        return np.exp(x)/(1+np.exp(x))\n",
    "    sigmoid = np.vectorize(f)\n",
    "    \n",
    "    result = sigmoid(power)\n",
    "    \n",
    "    def g(x):\n",
    "        if x>0.5:\n",
    "            return 1\n",
    "        else:\n",
    "            return 0\n",
    "    \n",
    "    prob = np.vectorize(g)\n",
    "    \n",
    "    y_pred = prob(result)\n",
    "    \n",
    "    def accuracy(y, y_):\n",
    "        correct = 0\n",
    "        total = len(y)\n",
    "        for i in range(total):\n",
    "            if y[i] == y_[i]:\n",
    "                correct += 1\n",
    "        return correct/total\n",
    "    \n",
    "    acc = accuracy(y,y_pred)\n",
    "    \n",
    "    return y_pred, acc\n",
    "    "
   ]
  },
  {
   "cell_type": "code",
   "execution_count": 20,
   "metadata": {},
   "outputs": [],
   "source": [
    "y_pred, acc = predict(X_stacked,y,0.001,1000)"
   ]
  },
  {
   "cell_type": "code",
   "execution_count": 21,
   "metadata": {},
   "outputs": [
    {
     "name": "stdout",
     "output_type": "stream",
     "text": [
      "0.98\n"
     ]
    }
   ],
   "source": [
    "print(acc)"
   ]
  },
  {
   "cell_type": "markdown",
   "metadata": {},
   "source": [
    "#### Conclusion\n",
    "- As expected the accuracy is around 95-100%. This shows how effective logistic regression is on linearly separable data.\n",
    "- Both Linear and Logistic Regression have same derivative of loss function, that is $\\frac{1}{N}(\\hat{y}-y)X^{T}$, though Linear Regression has a extra factor of 1/2 ."
   ]
  },
  {
   "cell_type": "markdown",
   "metadata": {},
   "source": [
    "### Logistic Regression on non-linear data\n",
    "- We make $y = H(x1 \\cdot x2)$, $H$ is the heaviside function."
   ]
  },
  {
   "cell_type": "code",
   "execution_count": 22,
   "metadata": {},
   "outputs": [],
   "source": [
    "X = np.random.uniform(-3, 3, (100, 2))\n",
    "y = np.array([0]*100)\n",
    "for i in range(100):\n",
    "    if X[i][0]*X[i][1] > 0:\n",
    "        y[i] = 1\n",
    "    else:\n",
    "        y[i] = 0\n",
    "X_ = X.T\n",
    "X_stacked = np.vstack((np.ones(X.shape[0]), X_)).T"
   ]
  },
  {
   "cell_type": "code",
   "execution_count": 23,
   "metadata": {},
   "outputs": [],
   "source": [
    "y_pred, acc = predict(X_stacked, y, 0.001, 1000)"
   ]
  },
  {
   "cell_type": "code",
   "execution_count": 24,
   "metadata": {},
   "outputs": [
    {
     "name": "stdout",
     "output_type": "stream",
     "text": [
      "0.67\n"
     ]
    }
   ],
   "source": [
    "print(acc)"
   ]
  },
  {
   "cell_type": "markdown",
   "metadata": {},
   "source": [
    "#### Conclusion\n",
    "- Logistic Regression doesn't work as well when the data is not linearly separable. This result is showing that a different model is required"
   ]
  },
  {
   "cell_type": "code",
   "execution_count": null,
   "metadata": {},
   "outputs": [],
   "source": []
  }
 ],
 "metadata": {
  "kernelspec": {
   "display_name": "Python 3",
   "language": "python",
   "name": "python3"
  },
  "language_info": {
   "codemirror_mode": {
    "name": "ipython",
    "version": 3
   },
   "file_extension": ".py",
   "mimetype": "text/x-python",
   "name": "python",
   "nbconvert_exporter": "python",
   "pygments_lexer": "ipython3",
   "version": "3.7.3"
  }
 },
 "nbformat": 4,
 "nbformat_minor": 2
}
